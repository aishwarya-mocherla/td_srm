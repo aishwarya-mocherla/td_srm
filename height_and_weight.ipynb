{
  "nbformat": 4,
  "nbformat_minor": 0,
  "metadata": {
    "colab": {
      "name": "height_and_weight.ipynb",
      "provenance": [],
      "collapsed_sections": []
    },
    "kernelspec": {
      "name": "python3",
      "display_name": "Python 3"
    },
    "language_info": {
      "name": "python"
    }
  },
  "cells": [
    {
      "cell_type": "code",
      "metadata": {
        "id": "VjU3-wniIF4f",
        "colab": {
          "base_uri": "https://localhost:8080/",
          "height": 203
        },
        "outputId": "198c76f1-05e2-4d99-8324-d8a9e37a69e4"
      },
      "source": [
        "import pandas as pd\n",
        "import numpy as np\n",
        "import matplotlib.pyplot as plt\n",
        "from sklearn.linear_model import LinearRegression\n",
        "\n",
        "df = pd.read_excel('/content/height-weight.xlsx')\n",
        "df.head()\n"
      ],
      "execution_count": 32,
      "outputs": [
        {
          "output_type": "execute_result",
          "data": {
            "text/html": [
              "<div>\n",
              "<style scoped>\n",
              "    .dataframe tbody tr th:only-of-type {\n",
              "        vertical-align: middle;\n",
              "    }\n",
              "\n",
              "    .dataframe tbody tr th {\n",
              "        vertical-align: top;\n",
              "    }\n",
              "\n",
              "    .dataframe thead th {\n",
              "        text-align: right;\n",
              "    }\n",
              "</style>\n",
              "<table border=\"1\" class=\"dataframe\">\n",
              "  <thead>\n",
              "    <tr style=\"text-align: right;\">\n",
              "      <th></th>\n",
              "      <th>Weight</th>\n",
              "      <th>Height</th>\n",
              "    </tr>\n",
              "  </thead>\n",
              "  <tbody>\n",
              "    <tr>\n",
              "      <th>0</th>\n",
              "      <td>73.847017</td>\n",
              "      <td>241.893563</td>\n",
              "    </tr>\n",
              "    <tr>\n",
              "      <th>1</th>\n",
              "      <td>68.781904</td>\n",
              "      <td>162.310473</td>\n",
              "    </tr>\n",
              "    <tr>\n",
              "      <th>2</th>\n",
              "      <td>74.110105</td>\n",
              "      <td>212.740856</td>\n",
              "    </tr>\n",
              "    <tr>\n",
              "      <th>3</th>\n",
              "      <td>71.730978</td>\n",
              "      <td>220.042470</td>\n",
              "    </tr>\n",
              "    <tr>\n",
              "      <th>4</th>\n",
              "      <td>69.881796</td>\n",
              "      <td>206.349801</td>\n",
              "    </tr>\n",
              "  </tbody>\n",
              "</table>\n",
              "</div>"
            ],
            "text/plain": [
              "      Weight      Height\n",
              "0  73.847017  241.893563\n",
              "1  68.781904  162.310473\n",
              "2  74.110105  212.740856\n",
              "3  71.730978  220.042470\n",
              "4  69.881796  206.349801"
            ]
          },
          "metadata": {},
          "execution_count": 32
        }
      ]
    },
    {
      "cell_type": "code",
      "metadata": {
        "colab": {
          "base_uri": "https://localhost:8080/",
          "height": 203
        },
        "id": "cMk6qDNX1LLC",
        "outputId": "74dd9f16-927a-4959-b9da-0aeac3139427"
      },
      "source": [
        "df.tail()"
      ],
      "execution_count": 33,
      "outputs": [
        {
          "output_type": "execute_result",
          "data": {
            "text/html": [
              "<div>\n",
              "<style scoped>\n",
              "    .dataframe tbody tr th:only-of-type {\n",
              "        vertical-align: middle;\n",
              "    }\n",
              "\n",
              "    .dataframe tbody tr th {\n",
              "        vertical-align: top;\n",
              "    }\n",
              "\n",
              "    .dataframe thead th {\n",
              "        text-align: right;\n",
              "    }\n",
              "</style>\n",
              "<table border=\"1\" class=\"dataframe\">\n",
              "  <thead>\n",
              "    <tr style=\"text-align: right;\">\n",
              "      <th></th>\n",
              "      <th>Weight</th>\n",
              "      <th>Height</th>\n",
              "    </tr>\n",
              "  </thead>\n",
              "  <tbody>\n",
              "    <tr>\n",
              "      <th>19</th>\n",
              "      <td>67.936005</td>\n",
              "      <td>182.426648</td>\n",
              "    </tr>\n",
              "    <tr>\n",
              "      <th>20</th>\n",
              "      <td>67.915050</td>\n",
              "      <td>174.115929</td>\n",
              "    </tr>\n",
              "    <tr>\n",
              "      <th>21</th>\n",
              "      <td>69.439440</td>\n",
              "      <td>197.731422</td>\n",
              "    </tr>\n",
              "    <tr>\n",
              "      <th>22</th>\n",
              "      <td>66.149132</td>\n",
              "      <td>149.173566</td>\n",
              "    </tr>\n",
              "    <tr>\n",
              "      <th>23</th>\n",
              "      <td>75.205974</td>\n",
              "      <td>228.761781</td>\n",
              "    </tr>\n",
              "  </tbody>\n",
              "</table>\n",
              "</div>"
            ],
            "text/plain": [
              "       Weight      Height\n",
              "19  67.936005  182.426648\n",
              "20  67.915050  174.115929\n",
              "21  69.439440  197.731422\n",
              "22  66.149132  149.173566\n",
              "23  75.205974  228.761781"
            ]
          },
          "metadata": {},
          "execution_count": 33
        }
      ]
    },
    {
      "cell_type": "code",
      "metadata": {
        "colab": {
          "base_uri": "https://localhost:8080/",
          "height": 850
        },
        "id": "-cyFoN5dYAHg",
        "outputId": "bcca1c0a-ab94-4ef0-9af5-abc88b41cd87"
      },
      "source": [
        "df.groupby('Weight').describe()"
      ],
      "execution_count": 34,
      "outputs": [
        {
          "output_type": "execute_result",
          "data": {
            "text/html": [
              "<div>\n",
              "<style scoped>\n",
              "    .dataframe tbody tr th:only-of-type {\n",
              "        vertical-align: middle;\n",
              "    }\n",
              "\n",
              "    .dataframe tbody tr th {\n",
              "        vertical-align: top;\n",
              "    }\n",
              "\n",
              "    .dataframe thead tr th {\n",
              "        text-align: left;\n",
              "    }\n",
              "\n",
              "    .dataframe thead tr:last-of-type th {\n",
              "        text-align: right;\n",
              "    }\n",
              "</style>\n",
              "<table border=\"1\" class=\"dataframe\">\n",
              "  <thead>\n",
              "    <tr>\n",
              "      <th></th>\n",
              "      <th colspan=\"8\" halign=\"left\">Height</th>\n",
              "    </tr>\n",
              "    <tr>\n",
              "      <th></th>\n",
              "      <th>count</th>\n",
              "      <th>mean</th>\n",
              "      <th>std</th>\n",
              "      <th>min</th>\n",
              "      <th>25%</th>\n",
              "      <th>50%</th>\n",
              "      <th>75%</th>\n",
              "      <th>max</th>\n",
              "    </tr>\n",
              "    <tr>\n",
              "      <th>Weight</th>\n",
              "      <th></th>\n",
              "      <th></th>\n",
              "      <th></th>\n",
              "      <th></th>\n",
              "      <th></th>\n",
              "      <th></th>\n",
              "      <th></th>\n",
              "      <th></th>\n",
              "    </tr>\n",
              "  </thead>\n",
              "  <tbody>\n",
              "    <tr>\n",
              "      <th>63.456494</th>\n",
              "      <td>1.0</td>\n",
              "      <td>156.399676</td>\n",
              "      <td>NaN</td>\n",
              "      <td>156.399676</td>\n",
              "      <td>156.399676</td>\n",
              "      <td>156.399676</td>\n",
              "      <td>156.399676</td>\n",
              "      <td>156.399676</td>\n",
              "    </tr>\n",
              "    <tr>\n",
              "      <th>63.974326</th>\n",
              "      <td>1.0</td>\n",
              "      <td>172.883470</td>\n",
              "      <td>NaN</td>\n",
              "      <td>172.883470</td>\n",
              "      <td>172.883470</td>\n",
              "      <td>172.883470</td>\n",
              "      <td>172.883470</td>\n",
              "      <td>172.883470</td>\n",
              "    </tr>\n",
              "    <tr>\n",
              "      <th>64.766329</th>\n",
              "      <td>1.0</td>\n",
              "      <td>167.127461</td>\n",
              "      <td>NaN</td>\n",
              "      <td>167.127461</td>\n",
              "      <td>167.127461</td>\n",
              "      <td>167.127461</td>\n",
              "      <td>167.127461</td>\n",
              "      <td>167.127461</td>\n",
              "    </tr>\n",
              "    <tr>\n",
              "      <th>66.149132</th>\n",
              "      <td>1.0</td>\n",
              "      <td>149.173566</td>\n",
              "      <td>NaN</td>\n",
              "      <td>149.173566</td>\n",
              "      <td>149.173566</td>\n",
              "      <td>149.173566</td>\n",
              "      <td>149.173566</td>\n",
              "      <td>149.173566</td>\n",
              "    </tr>\n",
              "    <tr>\n",
              "      <th>67.018950</th>\n",
              "      <td>1.0</td>\n",
              "      <td>175.929440</td>\n",
              "      <td>NaN</td>\n",
              "      <td>175.929440</td>\n",
              "      <td>175.929440</td>\n",
              "      <td>175.929440</td>\n",
              "      <td>175.929440</td>\n",
              "      <td>175.929440</td>\n",
              "    </tr>\n",
              "    <tr>\n",
              "      <th>67.253016</th>\n",
              "      <td>1.0</td>\n",
              "      <td>152.212156</td>\n",
              "      <td>NaN</td>\n",
              "      <td>152.212156</td>\n",
              "      <td>152.212156</td>\n",
              "      <td>152.212156</td>\n",
              "      <td>152.212156</td>\n",
              "      <td>152.212156</td>\n",
              "    </tr>\n",
              "    <tr>\n",
              "      <th>67.645620</th>\n",
              "      <td>1.0</td>\n",
              "      <td>172.186930</td>\n",
              "      <td>NaN</td>\n",
              "      <td>172.186930</td>\n",
              "      <td>172.186930</td>\n",
              "      <td>172.186930</td>\n",
              "      <td>172.186930</td>\n",
              "      <td>172.186930</td>\n",
              "    </tr>\n",
              "    <tr>\n",
              "      <th>67.915050</th>\n",
              "      <td>1.0</td>\n",
              "      <td>174.115929</td>\n",
              "      <td>NaN</td>\n",
              "      <td>174.115929</td>\n",
              "      <td>174.115929</td>\n",
              "      <td>174.115929</td>\n",
              "      <td>174.115929</td>\n",
              "      <td>174.115929</td>\n",
              "    </tr>\n",
              "    <tr>\n",
              "      <th>67.936005</th>\n",
              "      <td>1.0</td>\n",
              "      <td>182.426648</td>\n",
              "      <td>NaN</td>\n",
              "      <td>182.426648</td>\n",
              "      <td>182.426648</td>\n",
              "      <td>182.426648</td>\n",
              "      <td>182.426648</td>\n",
              "      <td>182.426648</td>\n",
              "    </tr>\n",
              "    <tr>\n",
              "      <th>68.348516</th>\n",
              "      <td>1.0</td>\n",
              "      <td>167.971110</td>\n",
              "      <td>NaN</td>\n",
              "      <td>167.971110</td>\n",
              "      <td>167.971110</td>\n",
              "      <td>167.971110</td>\n",
              "      <td>167.971110</td>\n",
              "      <td>167.971110</td>\n",
              "    </tr>\n",
              "    <tr>\n",
              "      <th>68.781904</th>\n",
              "      <td>1.0</td>\n",
              "      <td>162.310473</td>\n",
              "      <td>NaN</td>\n",
              "      <td>162.310473</td>\n",
              "      <td>162.310473</td>\n",
              "      <td>162.310473</td>\n",
              "      <td>162.310473</td>\n",
              "      <td>162.310473</td>\n",
              "    </tr>\n",
              "    <tr>\n",
              "      <th>68.785081</th>\n",
              "      <td>1.0</td>\n",
              "      <td>183.927889</td>\n",
              "      <td>NaN</td>\n",
              "      <td>183.927889</td>\n",
              "      <td>183.927889</td>\n",
              "      <td>183.927889</td>\n",
              "      <td>183.927889</td>\n",
              "      <td>183.927889</td>\n",
              "    </tr>\n",
              "    <tr>\n",
              "      <th>69.243732</th>\n",
              "      <td>1.0</td>\n",
              "      <td>186.434168</td>\n",
              "      <td>NaN</td>\n",
              "      <td>186.434168</td>\n",
              "      <td>186.434168</td>\n",
              "      <td>186.434168</td>\n",
              "      <td>186.434168</td>\n",
              "      <td>186.434168</td>\n",
              "    </tr>\n",
              "    <tr>\n",
              "      <th>69.283070</th>\n",
              "      <td>1.0</td>\n",
              "      <td>189.446181</td>\n",
              "      <td>NaN</td>\n",
              "      <td>189.446181</td>\n",
              "      <td>189.446181</td>\n",
              "      <td>189.446181</td>\n",
              "      <td>189.446181</td>\n",
              "      <td>189.446181</td>\n",
              "    </tr>\n",
              "    <tr>\n",
              "      <th>69.439440</th>\n",
              "      <td>1.0</td>\n",
              "      <td>197.731422</td>\n",
              "      <td>NaN</td>\n",
              "      <td>197.731422</td>\n",
              "      <td>197.731422</td>\n",
              "      <td>197.731422</td>\n",
              "      <td>197.731422</td>\n",
              "      <td>197.731422</td>\n",
              "    </tr>\n",
              "    <tr>\n",
              "      <th>69.640060</th>\n",
              "      <td>1.0</td>\n",
              "      <td>185.983958</td>\n",
              "      <td>NaN</td>\n",
              "      <td>185.983958</td>\n",
              "      <td>185.983958</td>\n",
              "      <td>185.983958</td>\n",
              "      <td>185.983958</td>\n",
              "      <td>185.983958</td>\n",
              "    </tr>\n",
              "    <tr>\n",
              "      <th>69.881796</th>\n",
              "      <td>1.0</td>\n",
              "      <td>206.349801</td>\n",
              "      <td>NaN</td>\n",
              "      <td>206.349801</td>\n",
              "      <td>206.349801</td>\n",
              "      <td>206.349801</td>\n",
              "      <td>206.349801</td>\n",
              "      <td>206.349801</td>\n",
              "    </tr>\n",
              "    <tr>\n",
              "      <th>71.195382</th>\n",
              "      <td>1.0</td>\n",
              "      <td>186.604926</td>\n",
              "      <td>NaN</td>\n",
              "      <td>186.604926</td>\n",
              "      <td>186.604926</td>\n",
              "      <td>186.604926</td>\n",
              "      <td>186.604926</td>\n",
              "      <td>186.604926</td>\n",
              "    </tr>\n",
              "    <tr>\n",
              "      <th>71.640805</th>\n",
              "      <td>1.0</td>\n",
              "      <td>213.741169</td>\n",
              "      <td>NaN</td>\n",
              "      <td>213.741169</td>\n",
              "      <td>213.741169</td>\n",
              "      <td>213.741169</td>\n",
              "      <td>213.741169</td>\n",
              "      <td>213.741169</td>\n",
              "    </tr>\n",
              "    <tr>\n",
              "      <th>71.730978</th>\n",
              "      <td>1.0</td>\n",
              "      <td>220.042470</td>\n",
              "      <td>NaN</td>\n",
              "      <td>220.042470</td>\n",
              "      <td>220.042470</td>\n",
              "      <td>220.042470</td>\n",
              "      <td>220.042470</td>\n",
              "      <td>220.042470</td>\n",
              "    </tr>\n",
              "    <tr>\n",
              "      <th>72.418317</th>\n",
              "      <td>1.0</td>\n",
              "      <td>196.028506</td>\n",
              "      <td>NaN</td>\n",
              "      <td>196.028506</td>\n",
              "      <td>196.028506</td>\n",
              "      <td>196.028506</td>\n",
              "      <td>196.028506</td>\n",
              "      <td>196.028506</td>\n",
              "    </tr>\n",
              "    <tr>\n",
              "      <th>73.847017</th>\n",
              "      <td>1.0</td>\n",
              "      <td>241.893563</td>\n",
              "      <td>NaN</td>\n",
              "      <td>241.893563</td>\n",
              "      <td>241.893563</td>\n",
              "      <td>241.893563</td>\n",
              "      <td>241.893563</td>\n",
              "      <td>241.893563</td>\n",
              "    </tr>\n",
              "    <tr>\n",
              "      <th>74.110105</th>\n",
              "      <td>1.0</td>\n",
              "      <td>212.740856</td>\n",
              "      <td>NaN</td>\n",
              "      <td>212.740856</td>\n",
              "      <td>212.740856</td>\n",
              "      <td>212.740856</td>\n",
              "      <td>212.740856</td>\n",
              "      <td>212.740856</td>\n",
              "    </tr>\n",
              "    <tr>\n",
              "      <th>75.205974</th>\n",
              "      <td>1.0</td>\n",
              "      <td>228.761781</td>\n",
              "      <td>NaN</td>\n",
              "      <td>228.761781</td>\n",
              "      <td>228.761781</td>\n",
              "      <td>228.761781</td>\n",
              "      <td>228.761781</td>\n",
              "      <td>228.761781</td>\n",
              "    </tr>\n",
              "  </tbody>\n",
              "</table>\n",
              "</div>"
            ],
            "text/plain": [
              "          Height                  ...                                    \n",
              "           count        mean std  ...         50%         75%         max\n",
              "Weight                            ...                                    \n",
              "63.456494    1.0  156.399676 NaN  ...  156.399676  156.399676  156.399676\n",
              "63.974326    1.0  172.883470 NaN  ...  172.883470  172.883470  172.883470\n",
              "64.766329    1.0  167.127461 NaN  ...  167.127461  167.127461  167.127461\n",
              "66.149132    1.0  149.173566 NaN  ...  149.173566  149.173566  149.173566\n",
              "67.018950    1.0  175.929440 NaN  ...  175.929440  175.929440  175.929440\n",
              "67.253016    1.0  152.212156 NaN  ...  152.212156  152.212156  152.212156\n",
              "67.645620    1.0  172.186930 NaN  ...  172.186930  172.186930  172.186930\n",
              "67.915050    1.0  174.115929 NaN  ...  174.115929  174.115929  174.115929\n",
              "67.936005    1.0  182.426648 NaN  ...  182.426648  182.426648  182.426648\n",
              "68.348516    1.0  167.971110 NaN  ...  167.971110  167.971110  167.971110\n",
              "68.781904    1.0  162.310473 NaN  ...  162.310473  162.310473  162.310473\n",
              "68.785081    1.0  183.927889 NaN  ...  183.927889  183.927889  183.927889\n",
              "69.243732    1.0  186.434168 NaN  ...  186.434168  186.434168  186.434168\n",
              "69.283070    1.0  189.446181 NaN  ...  189.446181  189.446181  189.446181\n",
              "69.439440    1.0  197.731422 NaN  ...  197.731422  197.731422  197.731422\n",
              "69.640060    1.0  185.983958 NaN  ...  185.983958  185.983958  185.983958\n",
              "69.881796    1.0  206.349801 NaN  ...  206.349801  206.349801  206.349801\n",
              "71.195382    1.0  186.604926 NaN  ...  186.604926  186.604926  186.604926\n",
              "71.640805    1.0  213.741169 NaN  ...  213.741169  213.741169  213.741169\n",
              "71.730978    1.0  220.042470 NaN  ...  220.042470  220.042470  220.042470\n",
              "72.418317    1.0  196.028506 NaN  ...  196.028506  196.028506  196.028506\n",
              "73.847017    1.0  241.893563 NaN  ...  241.893563  241.893563  241.893563\n",
              "74.110105    1.0  212.740856 NaN  ...  212.740856  212.740856  212.740856\n",
              "75.205974    1.0  228.761781 NaN  ...  228.761781  228.761781  228.761781\n",
              "\n",
              "[24 rows x 8 columns]"
            ]
          },
          "metadata": {},
          "execution_count": 34
        }
      ]
    },
    {
      "cell_type": "code",
      "metadata": {
        "colab": {
          "base_uri": "https://localhost:8080/",
          "height": 279
        },
        "id": "srbWNy1FYI7x",
        "outputId": "fc56f840-9c99-4351-dc09-22a0cbce9436"
      },
      "source": [
        "%matplotlib inline\n",
        "plt.xlabel('Height')\n",
        "plt.ylabel('Weight')\n",
        "plt.scatter(df.Height,df.Weight,color='blue',marker='*')\n",
        "plt.show()"
      ],
      "execution_count": 35,
      "outputs": [
        {
          "output_type": "display_data",
          "data": {
            "image/png": "[encoded data removed]",
            "text/plain": [
              "<Figure size 432x288 with 1 Axes>"
            ]
          },
          "metadata": {
            "needs_background": "light"
          }
        }
      ]
    },
    {
      "cell_type": "code",
      "metadata": {
        "colab": {
          "base_uri": "https://localhost:8080/",
          "height": 788
        },
        "id": "CX2aPy92cXXY",
        "outputId": "63c0329a-faf1-436a-b422-373f27960d2b"
      },
      "source": [
        "x = df.drop('Weight',axis='columns')\n",
        "x"
      ],
      "execution_count": 36,
      "outputs": [
        {
          "output_type": "execute_result",
          "data": {
            "text/html": [
              "<div>\n",
              "<style scoped>\n",
              "    .dataframe tbody tr th:only-of-type {\n",
              "        vertical-align: middle;\n",
              "    }\n",
              "\n",
              "    .dataframe tbody tr th {\n",
              "        vertical-align: top;\n",
              "    }\n",
              "\n",
              "    .dataframe thead th {\n",
              "        text-align: right;\n",
              "    }\n",
              "</style>\n",
              "<table border=\"1\" class=\"dataframe\">\n",
              "  <thead>\n",
              "    <tr style=\"text-align: right;\">\n",
              "      <th></th>\n",
              "      <th>Height</th>\n",
              "    </tr>\n",
              "  </thead>\n",
              "  <tbody>\n",
              "    <tr>\n",
              "      <th>0</th>\n",
              "      <td>241.893563</td>\n",
              "    </tr>\n",
              "    <tr>\n",
              "      <th>1</th>\n",
              "      <td>162.310473</td>\n",
              "    </tr>\n",
              "    <tr>\n",
              "      <th>2</th>\n",
              "      <td>212.740856</td>\n",
              "    </tr>\n",
              "    <tr>\n",
              "      <th>3</th>\n",
              "      <td>220.042470</td>\n",
              "    </tr>\n",
              "    <tr>\n",
              "      <th>4</th>\n",
              "      <td>206.349801</td>\n",
              "    </tr>\n",
              "    <tr>\n",
              "      <th>5</th>\n",
              "      <td>152.212156</td>\n",
              "    </tr>\n",
              "    <tr>\n",
              "      <th>6</th>\n",
              "      <td>183.927889</td>\n",
              "    </tr>\n",
              "    <tr>\n",
              "      <th>7</th>\n",
              "      <td>167.971110</td>\n",
              "    </tr>\n",
              "    <tr>\n",
              "      <th>8</th>\n",
              "      <td>175.929440</td>\n",
              "    </tr>\n",
              "    <tr>\n",
              "      <th>9</th>\n",
              "      <td>156.399676</td>\n",
              "    </tr>\n",
              "    <tr>\n",
              "      <th>10</th>\n",
              "      <td>186.604926</td>\n",
              "    </tr>\n",
              "    <tr>\n",
              "      <th>11</th>\n",
              "      <td>213.741169</td>\n",
              "    </tr>\n",
              "    <tr>\n",
              "      <th>12</th>\n",
              "      <td>167.127461</td>\n",
              "    </tr>\n",
              "    <tr>\n",
              "      <th>13</th>\n",
              "      <td>189.446181</td>\n",
              "    </tr>\n",
              "    <tr>\n",
              "      <th>14</th>\n",
              "      <td>186.434168</td>\n",
              "    </tr>\n",
              "    <tr>\n",
              "      <th>15</th>\n",
              "      <td>172.186930</td>\n",
              "    </tr>\n",
              "    <tr>\n",
              "      <th>16</th>\n",
              "      <td>196.028506</td>\n",
              "    </tr>\n",
              "    <tr>\n",
              "      <th>17</th>\n",
              "      <td>172.883470</td>\n",
              "    </tr>\n",
              "    <tr>\n",
              "      <th>18</th>\n",
              "      <td>185.983958</td>\n",
              "    </tr>\n",
              "    <tr>\n",
              "      <th>19</th>\n",
              "      <td>182.426648</td>\n",
              "    </tr>\n",
              "    <tr>\n",
              "      <th>20</th>\n",
              "      <td>174.115929</td>\n",
              "    </tr>\n",
              "    <tr>\n",
              "      <th>21</th>\n",
              "      <td>197.731422</td>\n",
              "    </tr>\n",
              "    <tr>\n",
              "      <th>22</th>\n",
              "      <td>149.173566</td>\n",
              "    </tr>\n",
              "    <tr>\n",
              "      <th>23</th>\n",
              "      <td>228.761781</td>\n",
              "    </tr>\n",
              "  </tbody>\n",
              "</table>\n",
              "</div>"
            ],
            "text/plain": [
              "        Height\n",
              "0   241.893563\n",
              "1   162.310473\n",
              "2   212.740856\n",
              "3   220.042470\n",
              "4   206.349801\n",
              "5   152.212156\n",
              "6   183.927889\n",
              "7   167.971110\n",
              "8   175.929440\n",
              "9   156.399676\n",
              "10  186.604926\n",
              "11  213.741169\n",
              "12  167.127461\n",
              "13  189.446181\n",
              "14  186.434168\n",
              "15  172.186930\n",
              "16  196.028506\n",
              "17  172.883470\n",
              "18  185.983958\n",
              "19  182.426648\n",
              "20  174.115929\n",
              "21  197.731422\n",
              "22  149.173566\n",
              "23  228.761781"
            ]
          },
          "metadata": {},
          "execution_count": 36
        }
      ]
    },
    {
      "cell_type": "code",
      "metadata": {
        "colab": {
          "base_uri": "https://localhost:8080/"
        },
        "id": "rU6Q1dUnc_hd",
        "outputId": "88a256ac-3877-4e2e-ca33-a3318435c999"
      },
      "source": [
        "y = df.Weight\n",
        "y"
      ],
      "execution_count": 37,
      "outputs": [
        {
          "output_type": "execute_result",
          "data": {
            "text/plain": [
              "0     73.847017\n",
              "1     68.781904\n",
              "2     74.110105\n",
              "3     71.730978\n",
              "4     69.881796\n",
              "5     67.253016\n",
              "6     68.785081\n",
              "7     68.348516\n",
              "8     67.018950\n",
              "9     63.456494\n",
              "10    71.195382\n",
              "11    71.640805\n",
              "12    64.766329\n",
              "13    69.283070\n",
              "14    69.243732\n",
              "15    67.645620\n",
              "16    72.418317\n",
              "17    63.974326\n",
              "18    69.640060\n",
              "19    67.936005\n",
              "20    67.915050\n",
              "21    69.439440\n",
              "22    66.149132\n",
              "23    75.205974\n",
              "Name: Weight, dtype: float64"
            ]
          },
          "metadata": {},
          "execution_count": 37
        }
      ]
    },
    {
      "cell_type": "code",
      "metadata": {
        "colab": {
          "base_uri": "https://localhost:8080/"
        },
        "id": "S_0fX72udJky",
        "outputId": "762f6df8-e26a-4ef3-df53-600014e78dd5"
      },
      "source": [
        "reg = LinearRegression()\n",
        "reg.fit(x,y)"
      ],
      "execution_count": 38,
      "outputs": [
        {
          "output_type": "execute_result",
          "data": {
            "text/plain": [
              "LinearRegression(copy_X=True, fit_intercept=True, n_jobs=None, normalize=False)"
            ]
          },
          "metadata": {},
          "execution_count": 38
        }
      ]
    },
    {
      "cell_type": "markdown",
      "metadata": {
        "id": "wwalTl6-fb-G"
      },
      "source": [
        "predict weight of a person with height  171.365832\n",
        "\n",
        "\n",
        "\n"
      ]
    },
    {
      "cell_type": "code",
      "metadata": {
        "colab": {
          "base_uri": "https://localhost:8080/"
        },
        "id": "33GWp6mze9gp",
        "outputId": "b34636e4-1dc0-47cd-cf61-48a2d48b1e36"
      },
      "source": [
        "reg.predict([[171.365832]])"
      ],
      "execution_count": 42,
      "outputs": [
        {
          "output_type": "execute_result",
          "data": {
            "text/plain": [
              "array([67.50503304])"
            ]
          },
          "metadata": {},
          "execution_count": 42
        }
      ]
    },
    {
      "cell_type": "code",
      "metadata": {
        "colab": {
          "base_uri": "https://localhost:8080/"
        },
        "id": "o8NDe5urfJOF",
        "outputId": "d83481c3-83df-46f8-b6d9-e22fe3f731a6"
      },
      "source": [
        "reg.coef_"
      ],
      "execution_count": 43,
      "outputs": [
        {
          "output_type": "execute_result",
          "data": {
            "text/plain": [
              "array([0.10698496])"
            ]
          },
          "metadata": {},
          "execution_count": 43
        }
      ]
    },
    {
      "cell_type": "code",
      "metadata": {
        "colab": {
          "base_uri": "https://localhost:8080/"
        },
        "id": "6kgfyzttfNYF",
        "outputId": "0c2cb6bb-02c5-4ddd-f127-170911084419"
      },
      "source": [
        "reg.intercept_"
      ],
      "execution_count": 44,
      "outputs": [
        {
          "output_type": "execute_result",
          "data": {
            "text/plain": [
              "49.17146567490818"
            ]
          },
          "metadata": {},
          "execution_count": 44
        }
      ]
    },
    {
      "cell_type": "markdown",
      "metadata": {
        "id": "UTgzS9_WhEZF"
      },
      "source": [
        "predict weight of a person with height 156.745367"
      ]
    },
    {
      "cell_type": "code",
      "metadata": {
        "colab": {
          "base_uri": "https://localhost:8080/"
        },
        "id": "XZPd6_nShM93",
        "outputId": "69c41cb7-8b75-4900-858e-33a41677f536"
      },
      "source": [
        "reg.predict([[156.745367]])"
      ],
      "execution_count": 45,
      "outputs": [
        {
          "output_type": "execute_result",
          "data": {
            "text/plain": [
              "array([65.94086312])"
            ]
          },
          "metadata": {},
          "execution_count": 45
        }
      ]
    },
    {
      "cell_type": "code",
      "metadata": {
        "colab": {
          "base_uri": "https://localhost:8080/",
          "height": 279
        },
        "id": "rPqQafm0heG3",
        "outputId": "de01de74-07f4-40f1-8ff5-4b53ce504ffb"
      },
      "source": [
        "plt.xlabel('Height')\n",
        "plt.ylabel('Weight')\n",
        "plt.scatter(df.Height,df.Weight,color='Blue',marker='*')\n",
        "plt.plot(x,reg.predict(x),color='red')\n",
        "plt.show()"
      ],
      "execution_count": 46,
      "outputs": [
        {
          "output_type": "display_data",
          "data": {
            "image/png": "[encoded data removed]",
            "text/plain": [
              "<Figure size 432x288 with 1 Axes>"
            ]
          },
          "metadata": {
            "needs_background": "light"
          }
        }
      ]
    }
  ]
}